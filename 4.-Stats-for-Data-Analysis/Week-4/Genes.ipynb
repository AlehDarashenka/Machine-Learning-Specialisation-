{
 "cells": [
  {
   "cell_type": "markdown",
   "metadata": {},
   "source": [
    "## Genes"
   ]
  },
  {
   "cell_type": "code",
   "execution_count": 1,
   "metadata": {
    "collapsed": false
   },
   "outputs": [
    {
     "data": {
      "text/html": [
       "<div>\n",
       "<table border=\"1\" class=\"dataframe\">\n",
       "  <thead>\n",
       "    <tr style=\"text-align: right;\">\n",
       "      <th></th>\n",
       "      <th>Patient_id</th>\n",
       "      <th>Diagnosis</th>\n",
       "      <th>LOC643837</th>\n",
       "      <th>LOC100130417</th>\n",
       "      <th>SAMD11</th>\n",
       "      <th>NOC2L</th>\n",
       "      <th>KLHL17</th>\n",
       "      <th>PLEKHN1</th>\n",
       "      <th>C1orf170</th>\n",
       "      <th>HES4</th>\n",
       "      <th>...</th>\n",
       "      <th>CLIC2</th>\n",
       "      <th>RPS4Y1</th>\n",
       "      <th>ZFY</th>\n",
       "      <th>PRKY</th>\n",
       "      <th>USP9Y</th>\n",
       "      <th>DDX3Y</th>\n",
       "      <th>CD24</th>\n",
       "      <th>CYorf15B</th>\n",
       "      <th>KDM5D</th>\n",
       "      <th>EIF1AY</th>\n",
       "    </tr>\n",
       "  </thead>\n",
       "  <tbody>\n",
       "    <tr>\n",
       "      <th>0</th>\n",
       "      <td>STT5425_Breast_001_normal</td>\n",
       "      <td>normal</td>\n",
       "      <td>1.257614</td>\n",
       "      <td>2.408148</td>\n",
       "      <td>13.368622</td>\n",
       "      <td>9.494779</td>\n",
       "      <td>20.880435</td>\n",
       "      <td>12.722017</td>\n",
       "      <td>9.494779</td>\n",
       "      <td>54.349694</td>\n",
       "      <td>...</td>\n",
       "      <td>4.761250</td>\n",
       "      <td>1.257614</td>\n",
       "      <td>1.257614</td>\n",
       "      <td>1.257614</td>\n",
       "      <td>1.257614</td>\n",
       "      <td>1.257614</td>\n",
       "      <td>23.268694</td>\n",
       "      <td>1.257614</td>\n",
       "      <td>1.257614</td>\n",
       "      <td>1.257614</td>\n",
       "    </tr>\n",
       "    <tr>\n",
       "      <th>1</th>\n",
       "      <td>STT5427_Breast_023_normal</td>\n",
       "      <td>normal</td>\n",
       "      <td>4.567931</td>\n",
       "      <td>16.602734</td>\n",
       "      <td>42.477752</td>\n",
       "      <td>25.562376</td>\n",
       "      <td>23.221137</td>\n",
       "      <td>11.622386</td>\n",
       "      <td>14.330573</td>\n",
       "      <td>72.445474</td>\n",
       "      <td>...</td>\n",
       "      <td>6.871902</td>\n",
       "      <td>1.815112</td>\n",
       "      <td>1.815112</td>\n",
       "      <td>1.815112</td>\n",
       "      <td>1.815112</td>\n",
       "      <td>1.815112</td>\n",
       "      <td>10.427023</td>\n",
       "      <td>1.815112</td>\n",
       "      <td>1.815112</td>\n",
       "      <td>1.815112</td>\n",
       "    </tr>\n",
       "    <tr>\n",
       "      <th>2</th>\n",
       "      <td>STT5430_Breast_002_normal</td>\n",
       "      <td>normal</td>\n",
       "      <td>2.077597</td>\n",
       "      <td>3.978294</td>\n",
       "      <td>12.863214</td>\n",
       "      <td>13.728915</td>\n",
       "      <td>14.543176</td>\n",
       "      <td>14.141907</td>\n",
       "      <td>6.232790</td>\n",
       "      <td>57.011005</td>\n",
       "      <td>...</td>\n",
       "      <td>7.096343</td>\n",
       "      <td>2.077597</td>\n",
       "      <td>2.077597</td>\n",
       "      <td>2.077597</td>\n",
       "      <td>2.077597</td>\n",
       "      <td>2.077597</td>\n",
       "      <td>22.344226</td>\n",
       "      <td>2.077597</td>\n",
       "      <td>2.077597</td>\n",
       "      <td>2.077597</td>\n",
       "    </tr>\n",
       "    <tr>\n",
       "      <th>3</th>\n",
       "      <td>STT5439_Breast_003_normal</td>\n",
       "      <td>normal</td>\n",
       "      <td>2.066576</td>\n",
       "      <td>8.520713</td>\n",
       "      <td>14.466035</td>\n",
       "      <td>7.823932</td>\n",
       "      <td>8.520713</td>\n",
       "      <td>2.066576</td>\n",
       "      <td>10.870009</td>\n",
       "      <td>53.292034</td>\n",
       "      <td>...</td>\n",
       "      <td>5.200770</td>\n",
       "      <td>2.066576</td>\n",
       "      <td>2.066576</td>\n",
       "      <td>2.066576</td>\n",
       "      <td>2.066576</td>\n",
       "      <td>2.066576</td>\n",
       "      <td>49.295538</td>\n",
       "      <td>2.066576</td>\n",
       "      <td>2.066576</td>\n",
       "      <td>2.066576</td>\n",
       "    </tr>\n",
       "    <tr>\n",
       "      <th>4</th>\n",
       "      <td>STT5441_Breast_004_normal</td>\n",
       "      <td>normal</td>\n",
       "      <td>2.613616</td>\n",
       "      <td>3.434965</td>\n",
       "      <td>12.682222</td>\n",
       "      <td>10.543189</td>\n",
       "      <td>26.688686</td>\n",
       "      <td>12.484822</td>\n",
       "      <td>1.364917</td>\n",
       "      <td>67.140393</td>\n",
       "      <td>...</td>\n",
       "      <td>11.227770</td>\n",
       "      <td>1.364917</td>\n",
       "      <td>1.364917</td>\n",
       "      <td>1.364917</td>\n",
       "      <td>1.364917</td>\n",
       "      <td>1.364917</td>\n",
       "      <td>23.627911</td>\n",
       "      <td>1.364917</td>\n",
       "      <td>1.364917</td>\n",
       "      <td>1.364917</td>\n",
       "    </tr>\n",
       "  </tbody>\n",
       "</table>\n",
       "<p>5 rows × 15750 columns</p>\n",
       "</div>"
      ],
      "text/plain": [
       "                  Patient_id Diagnosis  LOC643837  LOC100130417     SAMD11  \\\n",
       "0  STT5425_Breast_001_normal    normal   1.257614      2.408148  13.368622   \n",
       "1  STT5427_Breast_023_normal    normal   4.567931     16.602734  42.477752   \n",
       "2  STT5430_Breast_002_normal    normal   2.077597      3.978294  12.863214   \n",
       "3  STT5439_Breast_003_normal    normal   2.066576      8.520713  14.466035   \n",
       "4  STT5441_Breast_004_normal    normal   2.613616      3.434965  12.682222   \n",
       "\n",
       "       NOC2L     KLHL17    PLEKHN1   C1orf170       HES4    ...         CLIC2  \\\n",
       "0   9.494779  20.880435  12.722017   9.494779  54.349694    ...      4.761250   \n",
       "1  25.562376  23.221137  11.622386  14.330573  72.445474    ...      6.871902   \n",
       "2  13.728915  14.543176  14.141907   6.232790  57.011005    ...      7.096343   \n",
       "3   7.823932   8.520713   2.066576  10.870009  53.292034    ...      5.200770   \n",
       "4  10.543189  26.688686  12.484822   1.364917  67.140393    ...     11.227770   \n",
       "\n",
       "     RPS4Y1       ZFY      PRKY     USP9Y     DDX3Y       CD24  CYorf15B  \\\n",
       "0  1.257614  1.257614  1.257614  1.257614  1.257614  23.268694  1.257614   \n",
       "1  1.815112  1.815112  1.815112  1.815112  1.815112  10.427023  1.815112   \n",
       "2  2.077597  2.077597  2.077597  2.077597  2.077597  22.344226  2.077597   \n",
       "3  2.066576  2.066576  2.066576  2.066576  2.066576  49.295538  2.066576   \n",
       "4  1.364917  1.364917  1.364917  1.364917  1.364917  23.627911  1.364917   \n",
       "\n",
       "      KDM5D    EIF1AY  \n",
       "0  1.257614  1.257614  \n",
       "1  1.815112  1.815112  \n",
       "2  2.077597  2.077597  \n",
       "3  2.066576  2.066576  \n",
       "4  1.364917  1.364917  \n",
       "\n",
       "[5 rows x 15750 columns]"
      ]
     },
     "execution_count": 1,
     "metadata": {},
     "output_type": "execute_result"
    }
   ],
   "source": [
    "import pandas as pd \n",
    "data  = pd.read_csv('gene_high_throughput_sequencing.csv')\n",
    "data.head()\n",
    "#len(data)"
   ]
  },
  {
   "cell_type": "markdown",
   "metadata": {},
   "source": [
    "### Часть 1. Применение критерия Стьюдента для проверки гипотезы о равенстве средних в двух независимых выборках."
   ]
  },
  {
   "cell_type": "code",
   "execution_count": 45,
   "metadata": {
    "collapsed": false
   },
   "outputs": [],
   "source": [
    "def write_answer(value, name):\n",
    "    with open(name, 'w+') as file:\n",
    "        file.write(str(value))\n",
    "write_answer(10343483, 'proba_pera.txt')        "
   ]
  },
  {
   "cell_type": "code",
   "execution_count": 55,
   "metadata": {
    "collapsed": false
   },
   "outputs": [],
   "source": [
    "import numpy as np\n",
    "import pandas as pd\n",
    "import matplotlib as mp\n",
    "%matplotlib inline\n",
    "import scipy.stats as stats\n",
    "pvalues = {}\n",
    "for i in data.columns[2:]:\n",
    "    pvalues[i] = stats.ttest_ind( data.ix[data['Diagnosis']=='early neoplasia', i], data.ix[data['Diagnosis']=='normal', i])[1]\n"
   ]
  },
  {
   "cell_type": "code",
   "execution_count": 46,
   "metadata": {
    "collapsed": false
   },
   "outputs": [
    {
     "name": "stdout",
     "output_type": "stream",
     "text": [
      "Count of different values for genes: 1583\n",
      "15748\n"
     ]
    }
   ],
   "source": [
    "count = 0\n",
    "for i in pvalues.keys():\n",
    "    if pvalues[i]<0.05:\n",
    "        count+=1        \n",
    "print 'Count of different values for genes:', count  \n",
    "print len(pvalues)\n",
    "write_answer(count,'genes_1_1.txt')"
   ]
  },
  {
   "cell_type": "code",
   "execution_count": 47,
   "metadata": {
    "collapsed": false
   },
   "outputs": [
    {
     "name": "stdout",
     "output_type": "stream",
     "text": [
      "Count of different values for genes: 3529\n",
      "15748\n"
     ]
    }
   ],
   "source": [
    "pvalues2 = {}\n",
    "for i in data.columns[2:]:\n",
    "    pvalues2[i] = stats.ttest_rel(data.ix[data['Diagnosis']=='early neoplasia', i], data.ix[data['Diagnosis']=='cancer', i])[1]\n",
    "count = 0\n",
    "for i in pvalues2.keys():\n",
    "    if pvalues2[i]<0.05:\n",
    "        count+=1        \n",
    "print 'Count of different values for genes:', count  \n",
    "print len(pvalues2)\n",
    "write_answer(count,'genes_1_2.txt')"
   ]
  },
  {
   "cell_type": "markdown",
   "metadata": {},
   "source": [
    "### Часть 2: поправка методом Холма"
   ]
  },
  {
   "cell_type": "markdown",
   "metadata": {},
   "source": [
    "alpha=0.25 из-за поправки Бонферони, потому что мы имеем 2 набора уровней значимости, и мы их сравниваем по отдельности"
   ]
  },
  {
   "cell_type": "code",
   "execution_count": 49,
   "metadata": {
    "collapsed": false
   },
   "outputs": [
    {
     "name": "stdout",
     "output_type": "stream",
     "text": [
      "2\n",
      "85\n"
     ]
    }
   ],
   "source": [
    "from statsmodels.sandbox.stats.multicomp import multipletests \n",
    "reject, p_corrected, a1, a2 = multipletests(map(lambda keys:pvalues[keys], data.columns[2:]), \n",
    "                                            alpha = 0.025, \n",
    "                                            method = 'holm') \n",
    "reject2, p_corrected2, a1_2, a2_2 = multipletests(map(lambda keys:pvalues2[keys], data.columns[2:]), \n",
    "                                            alpha = 0.025, \n",
    "                                            method = 'holm') \n",
    "print sum(reject)\n",
    "print sum(reject2)\n",
    "\n"
   ]
  },
  {
   "cell_type": "code",
   "execution_count": 50,
   "metadata": {
    "collapsed": false
   },
   "outputs": [
    {
     "name": "stdout",
     "output_type": "stream",
     "text": [
      "1st experiment\n",
      "2nd experiment\n",
      "-2.29203566805\n",
      "1.53339432664\n",
      "1.6628886446\n",
      "2.25183903815\n"
     ]
    }
   ],
   "source": [
    "def fold_change(t, c):\n",
    "    if t>=c:\n",
    "        return t/c\n",
    "    else:\n",
    "        return -c/t\n",
    "    \n",
    "print '1st experiment'\n",
    "practical_val_arr = []\n",
    "for i,j in zip(reject, data.columns):\n",
    "    if i:\n",
    "        practical_val_arr.append( fold_change(data.ix[data['Diagnosis']=='normal',j].mean(),\\\n",
    "                              data.ix[data['Diagnosis']=='early neoplasia',j].mean()))\n",
    "for i in practical_val_arr:\n",
    "    if np.abs(i)>1.5:\n",
    "        print i\n",
    "practical_val_arr = []        \n",
    "print '2nd experiment'\n",
    "\n",
    "for i,j in zip(reject2, data.columns):\n",
    "    if i:\n",
    "        practical_val_arr.append(fold_change(data.ix[data['Diagnosis']=='early neoplasia',j].mean(),\\\n",
    "                              data.ix[data['Diagnosis']=='cancer',j].mean()))\n",
    "for i in practical_val_arr:\n",
    "    if np.abs(i)>1.5:\n",
    "        print i\n",
    "        \n",
    "write_answer(0,'genes_2_1.txt')\n",
    "write_answer(4,'genes_2_2.txt')"
   ]
  },
  {
   "cell_type": "markdown",
   "metadata": {},
   "source": [
    "### Часть 3: поправка методом Бенджамини-Хохберга"
   ]
  },
  {
   "cell_type": "code",
   "execution_count": 51,
   "metadata": {
    "collapsed": false
   },
   "outputs": [
    {
     "name": "stdout",
     "output_type": "stream",
     "text": [
      "4\n",
      "908\n"
     ]
    }
   ],
   "source": [
    "from statsmodels.sandbox.stats.multicomp import multipletests \n",
    "reject3, p_corrected3, a1_3, a2_3 = multipletests(map(lambda keys:pvalues[keys], data.columns[2:]), \n",
    "                                            alpha = 0.025, \n",
    "                                            method = 'fdr_bh') \n",
    "reject4, p_corrected4, a1_3, a2_4 = multipletests(map(lambda keys:pvalues2[keys], data.columns[2:]), \n",
    "                                            alpha = 0.025, \n",
    "                                            method = 'fdr_bh') \n",
    "print sum(reject3)\n",
    "print sum(reject4)\n",
    "\n"
   ]
  },
  {
   "cell_type": "code",
   "execution_count": 52,
   "metadata": {
    "collapsed": false
   },
   "outputs": [
    {
     "name": "stdout",
     "output_type": "stream",
     "text": [
      "1st experiment\n",
      "2nd experiment\n",
      "84\n"
     ]
    }
   ],
   "source": [
    "print '1st experiment'\n",
    "practical_val_arr = []\n",
    "for i,j in zip(reject3, data.columns):\n",
    "    if i:\n",
    "        practical_val_arr.append( fold_change(data.ix[data['Diagnosis']=='normal',j].mean(),\\\n",
    "                              data.ix[data['Diagnosis']=='early neoplasia',j].mean()))\n",
    "for i in practical_val_arr:\n",
    "    if np.abs(i)>1.5:\n",
    "        print i\n",
    "practical_val_arr = []        \n",
    "print '2nd experiment'\n",
    "\n",
    "for i,j in zip(reject4, data.columns):\n",
    "    if i:\n",
    "        practical_val_arr.append(fold_change(data.ix[data['Diagnosis']=='early neoplasia',j].mean(),\\\n",
    "                              data.ix[data['Diagnosis']=='cancer',j].mean()))\n",
    "count=0        \n",
    "for i in practical_val_arr:\n",
    "    if np.abs(i)>1.5:\n",
    "        count+=1\n",
    "print count  \n",
    "write_answer(0,'genes_3_1.txt')\n",
    "write_answer(count,'genes_3_2.txt')"
   ]
  }
 ],
 "metadata": {
  "kernelspec": {
   "display_name": "Python 2",
   "language": "python",
   "name": "python2"
  },
  "language_info": {
   "codemirror_mode": {
    "name": "ipython",
    "version": 2
   },
   "file_extension": ".py",
   "mimetype": "text/x-python",
   "name": "python",
   "nbconvert_exporter": "python",
   "pygments_lexer": "ipython2",
   "version": "2.7.12"
  }
 },
 "nbformat": 4,
 "nbformat_minor": 0
}
