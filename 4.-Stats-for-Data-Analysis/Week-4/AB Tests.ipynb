{
 "cells": [
  {
   "cell_type": "code",
   "execution_count": 50,
   "metadata": {
    "collapsed": false
   },
   "outputs": [
    {
     "data": {
      "text/html": [
       "<div>\n",
       "<table border=\"1\" class=\"dataframe\">\n",
       "  <thead>\n",
       "    <tr style=\"text-align: right;\">\n",
       "      <th></th>\n",
       "      <th>userID</th>\n",
       "      <th>browser</th>\n",
       "      <th>slot</th>\n",
       "      <th>n_clicks</th>\n",
       "      <th>n_queries</th>\n",
       "      <th>n_nonclk_queries</th>\n",
       "    </tr>\n",
       "  </thead>\n",
       "  <tbody>\n",
       "    <tr>\n",
       "      <th>0</th>\n",
       "      <td>1</td>\n",
       "      <td>Browser #2</td>\n",
       "      <td>exp</td>\n",
       "      <td>23</td>\n",
       "      <td>32</td>\n",
       "      <td>19</td>\n",
       "    </tr>\n",
       "    <tr>\n",
       "      <th>1</th>\n",
       "      <td>3</td>\n",
       "      <td>Browser #4</td>\n",
       "      <td>exp</td>\n",
       "      <td>3</td>\n",
       "      <td>4</td>\n",
       "      <td>2</td>\n",
       "    </tr>\n",
       "    <tr>\n",
       "      <th>2</th>\n",
       "      <td>5</td>\n",
       "      <td>Browser #4</td>\n",
       "      <td>exp</td>\n",
       "      <td>29</td>\n",
       "      <td>35</td>\n",
       "      <td>16</td>\n",
       "    </tr>\n",
       "    <tr>\n",
       "      <th>3</th>\n",
       "      <td>6</td>\n",
       "      <td>Browser #4</td>\n",
       "      <td>control</td>\n",
       "      <td>12</td>\n",
       "      <td>6</td>\n",
       "      <td>0</td>\n",
       "    </tr>\n",
       "    <tr>\n",
       "      <th>4</th>\n",
       "      <td>7</td>\n",
       "      <td>Browser #4</td>\n",
       "      <td>exp</td>\n",
       "      <td>54</td>\n",
       "      <td>68</td>\n",
       "      <td>30</td>\n",
       "    </tr>\n",
       "  </tbody>\n",
       "</table>\n",
       "</div>"
      ],
      "text/plain": [
       "   userID     browser     slot  n_clicks  n_queries  n_nonclk_queries\n",
       "0       1  Browser #2      exp        23         32                19\n",
       "1       3  Browser #4      exp         3          4                 2\n",
       "2       5  Browser #4      exp        29         35                16\n",
       "3       6  Browser #4  control        12          6                 0\n",
       "4       7  Browser #4      exp        54         68                30"
      ]
     },
     "execution_count": 50,
     "metadata": {},
     "output_type": "execute_result"
    }
   ],
   "source": [
    "import pandas as pd\n",
    "import numpy as np\n",
    "from statsmodels.sandbox.stats.multicomp import multipletests \n",
    "data = pd.read_csv('ab_browser_test.csv', sep=',')\n",
    "data.head()"
   ]
  },
  {
   "cell_type": "code",
   "execution_count": 3,
   "metadata": {
    "collapsed": false
   },
   "outputs": [],
   "source": [
    "exp_group = np.sum(data.ix[data['slot']=='exp', 'n_clicks' ])\n",
    "ctrl_group = np.sum(data.ix[data['slot']=='control', 'n_clicks' ])"
   ]
  },
  {
   "cell_type": "code",
   "execution_count": 4,
   "metadata": {
    "collapsed": false
   },
   "outputs": [
    {
     "data": {
      "text/plain": [
       "1.6135689824415806"
      ]
     },
     "execution_count": 4,
     "metadata": {},
     "output_type": "execute_result"
    }
   ],
   "source": [
    "100*(exp_group-ctrl_group)/float(ctrl_group)"
   ]
  },
  {
   "cell_type": "code",
   "execution_count": 5,
   "metadata": {
    "collapsed": false
   },
   "outputs": [],
   "source": [
    "exp_mean = data.ix[data['slot']=='exp', 'n_clicks' ].mean()\n",
    "exp_std = data.ix[data['slot']=='control', 'n_clicks' ].std(ddof=1)/np.sqrt(data.shape[0])"
   ]
  },
  {
   "cell_type": "code",
   "execution_count": 6,
   "metadata": {
    "collapsed": false
   },
   "outputs": [
    {
     "data": {
      "text/plain": [
       "566134"
      ]
     },
     "execution_count": 6,
     "metadata": {},
     "output_type": "execute_result"
    }
   ],
   "source": [
    "len(data)"
   ]
  },
  {
   "cell_type": "code",
   "execution_count": 7,
   "metadata": {
    "collapsed": false
   },
   "outputs": [
    {
     "name": "stdout",
     "output_type": "stream",
     "text": [
      "281580\n",
      "284554\n",
      "281580\n",
      "284554\n",
      "95% confidence interval for the experimental median group: [ 5.  5.]\n",
      "95% confidence interval for the control median group: [ 4.  4.]\n",
      "95% confidence interval for the experimental mean group: [ 11.5086867   11.66089388]\n",
      "95% confidence interval for the control mean group: [ 11.20795095  11.35742732]\n"
     ]
    }
   ],
   "source": [
    "exp_group =  data[data['slot']=='exp'].n_clicks.values\n",
    "ctrl_group = data[data['slot']=='control'].n_clicks.values\n",
    "\n",
    "def get_bootstrap_samples(data1, n_samples):\n",
    "    indices = np.random.randint(0, len(data1), (n_samples, len(data1)))\n",
    "    print len(indices[0])\n",
    "    samples = data1[indices]\n",
    "    return samples\n",
    "\n",
    "def stat_intervals(stat, alpha):\n",
    "    boundaries = np.percentile(stat, [100 * alpha / 2., 100 * (1 - alpha / 2.)])\n",
    "    return boundaries\n",
    "\n",
    "np.random.seed(0)\n",
    "exp_mean_scores = map(np.mean, get_bootstrap_samples(exp_group, 1000))\n",
    "ctrl_mean_scores = map(np.mean, get_bootstrap_samples(ctrl_group, 1000))\n",
    "\n",
    "exp_median_scores = map(np.median, get_bootstrap_samples(exp_group, 1000))\n",
    "ctrl_median_scores = map(np.median, get_bootstrap_samples(ctrl_group, 1000))\n",
    "\n",
    "print \"95% confidence interval for the experimental median group:\",  stat_intervals(exp_median_scores, 0.05)\n",
    "print \"95% confidence interval for the control median group:\",  stat_intervals(ctrl_median_scores, 0.05)\n",
    "print \"95% confidence interval for the experimental mean group:\",  stat_intervals(exp_mean_scores, 0.05)\n",
    "print \"95% confidence interval for the control mean group:\",  stat_intervals(ctrl_mean_scores, 0.05)"
   ]
  },
  {
   "cell_type": "code",
   "execution_count": 8,
   "metadata": {
    "collapsed": false
   },
   "outputs": [
    {
     "name": "stdout",
     "output_type": "stream",
     "text": [
      "95% confidence interval for the difference between medians [-1. -1.]\n"
     ]
    }
   ],
   "source": [
    "delta_median_scores = map(lambda x: x[1] - x[0], zip(exp_median_scores, ctrl_median_scores))\n",
    "print \"95% confidence interval for the difference between medians\",  stat_intervals(delta_median_scores, 0.05)"
   ]
  },
  {
   "cell_type": "code",
   "execution_count": 9,
   "metadata": {
    "collapsed": false
   },
   "outputs": [
    {
     "name": "stdout",
     "output_type": "stream",
     "text": [
      "95% confidence interval for the difference between medians [-0.40475697 -0.19172563]\n"
     ]
    }
   ],
   "source": [
    "delta_median_scores = map(lambda x: x[1] - x[0], zip(exp_mean_scores, ctrl_mean_scores))\n",
    "print \"95% confidence interval for the difference between medians\",  stat_intervals(delta_median_scores, 0.05)"
   ]
  },
  {
   "cell_type": "code",
   "execution_count": 10,
   "metadata": {
    "collapsed": false
   },
   "outputs": [
    {
     "name": "stdout",
     "output_type": "stream",
     "text": [
      "281580\n",
      "284554\n"
     ]
    }
   ],
   "source": [
    "exp_mean_scores = map(np.mean, get_bootstrap_samples(exp_group, 500))\n",
    "ctrl_mean_scores = map(np.mean, get_bootstrap_samples(ctrl_group, 500))"
   ]
  },
  {
   "cell_type": "code",
   "execution_count": 11,
   "metadata": {
    "collapsed": false
   },
   "outputs": [
    {
     "name": "stdout",
     "output_type": "stream",
     "text": [
      "284554\n"
     ]
    }
   ],
   "source": [
    "ctrl_var_sum = map(np.std, get_bootstrap_samples(ctrl_group, 500))"
   ]
  },
  {
   "cell_type": "code",
   "execution_count": 12,
   "metadata": {
    "collapsed": false
   },
   "outputs": [
    {
     "name": "stdout",
     "output_type": "stream",
     "text": [
      "Populating the interactive namespace from numpy and matplotlib\n"
     ]
    },
    {
     "data": {
      "image/png": "[encoded data removed]",
      "text/plain": [
       "<matplotlib.figure.Figure at 0xd3aa748>"
      ]
     },
     "metadata": {},
     "output_type": "display_data"
    }
   ],
   "source": [
    "%pylab inline\n",
    "np.random.seed(0)\n",
    "from statsmodels.stats.weightstats import *\n",
    "pylab.figure(figsize=(12,8))\n",
    "pylab.subplot(2,2,1)\n",
    "stats.probplot(ctrl_mean_scores, dist=\"norm\", plot=pylab, rvalue=True)\n",
    "pylab.subplot(2,2,2)\n",
    "stats.probplot(ctrl_var_sum, dist=\"chi2\", sparams = (len(ctrl_var_sum)-1), plot=pylab,rvalue=True)\n",
    "pylab.show()"
   ]
  },
  {
   "cell_type": "markdown",
   "metadata": {},
   "source": [
    "Применение критерия Манна-Уитни"
   ]
  },
  {
   "cell_type": "code",
   "execution_count": 20,
   "metadata": {
    "collapsed": false
   },
   "outputs": [],
   "source": [
    "ctrl_clcks = data[data['slot']=='control'].groupby(['userID'], sort=False).sum().n_clicks.values\n",
    "exp_clcks = data[data['slot']=='exp'].groupby(['userID'], sort=False).sum().n_clicks.values"
   ]
  },
  {
   "cell_type": "code",
   "execution_count": 21,
   "metadata": {
    "collapsed": false
   },
   "outputs": [
    {
     "data": {
      "text/plain": [
       "MannwhitneyuResult(statistic=38901259929.0, pvalue=4.3471471887604393e-75)"
      ]
     },
     "execution_count": 21,
     "metadata": {},
     "output_type": "execute_result"
    }
   ],
   "source": [
    "stats.mannwhitneyu(ctrl_clcks, exp_clcks)"
   ]
  },
  {
   "cell_type": "markdown",
   "metadata": {},
   "source": [
    "Нахождение наиболее значимых отличий между пользователями разных браузеров"
   ]
  },
  {
   "cell_type": "code",
   "execution_count": 25,
   "metadata": {
    "collapsed": false
   },
   "outputs": [],
   "source": [
    "ctrl_group1 = data[data['slot']=='control']"
   ]
  },
  {
   "cell_type": "code",
   "execution_count": 29,
   "metadata": {
    "collapsed": false
   },
   "outputs": [
    {
     "data": {
      "text/plain": [
       "array(['Browser #4', 'Browser #14', 'Browser #2', 'Browser #20',\n",
       "       'Browser #22', 'Browser #17'], dtype=object)"
      ]
     },
     "execution_count": 29,
     "metadata": {},
     "output_type": "execute_result"
    }
   ],
   "source": [
    "\n",
    "    "
   ]
  },
  {
   "cell_type": "code",
   "execution_count": 57,
   "metadata": {
    "collapsed": false
   },
   "outputs": [
    {
     "name": "stdout",
     "output_type": "stream",
     "text": [
      "[0.027243860419724101, 0.40760617658454984, 0.0, 0.037400601430108017, 0.45366656388735377, 0.25740551522100319]\n"
     ]
    }
   ],
   "source": [
    "ctrl_group1 = data[data['slot']=='control']\n",
    "exp_group1 = data[data['slot']=='exp']\n",
    "hypothesis = []\n",
    "for browser_name in data['browser'].unique():\n",
    "    ctrl_browser_group = ctrl_group1[ctrl_group1['browser']==browser_name].n_clicks.values\n",
    "    exp_browser_group = exp_group1[exp_group1['browser']==browser_name].n_clicks.values\n",
    "    hypothesis.append(stats.mannwhitneyu(ctrl_browser_group, exp_browser_group).pvalue)\n",
    "print hypothesis    \n",
    "reject, p_corrected, a1, a2 = multipletests(hypothesis, \n",
    "                                            alpha = 0.05, \n",
    "                                            method = 'holm') "
   ]
  },
  {
   "cell_type": "code",
   "execution_count": 52,
   "metadata": {
    "collapsed": false
   },
   "outputs": [
    {
     "name": "stdout",
     "output_type": "stream",
     "text": [
      "[0.027243860419724101, 0.40760617658454984, 0.0, 0.037400601430108017, 0.45366656388735377, 0.25740551522100319]\n"
     ]
    }
   ],
   "source": [
    "print hypothesis"
   ]
  },
  {
   "cell_type": "code",
   "execution_count": 58,
   "metadata": {
    "collapsed": false
   },
   "outputs": [
    {
     "name": "stdout",
     "output_type": "stream",
     "text": [
      "[False False  True False False False]\n"
     ]
    }
   ],
   "source": [
    "print reject"
   ]
  },
  {
   "cell_type": "markdown",
   "metadata": {},
   "source": [
    "Доля не клинутых запросов для каждой из групп"
   ]
  },
  {
   "cell_type": "code",
   "execution_count": 64,
   "metadata": {
    "collapsed": false
   },
   "outputs": [
    {
     "name": "stdout",
     "output_type": "stream",
     "text": [
      "Browser #2\n",
      "45.9627471792\n",
      "44.9827469486\n",
      "Browser #4\n",
      "46.9709296351\n",
      "45.1429419036\n",
      "Browser #14\n",
      "57.5904113601\n",
      "43.7556173613\n",
      "Browser #17\n",
      "36.2993667463\n",
      "36.9374128487\n",
      "Browser #20\n",
      "40.5404847434\n",
      "38.9773764837\n",
      "Browser #22\n",
      "40.5939765935\n",
      "39.8539472197\n"
     ]
    }
   ],
   "source": [
    "for browser_name in data['browser'].unique():\n",
    "    ctrl_browser_group1 = ctrl_group1[ctrl_group1['browser']==browser_name]\n",
    "    exp_browser_group1 = exp_group1[exp_group1['browser']==browser_name]\n",
    "    print browser_name\n",
    "    print 100*ctrl_browser_group1['n_nonclk_queries'].sum()/float(ctrl_browser_group1['n_queries'].sum())\n",
    "    print 100*exp_browser_group1['n_nonclk_queries'].sum()/float(exp_browser_group1['n_queries'].sum())"
   ]
  },
  {
   "cell_type": "code",
   "execution_count": null,
   "metadata": {
    "collapsed": true
   },
   "outputs": [],
   "source": []
  }
 ],
 "metadata": {
  "anaconda-cloud": {},
  "kernelspec": {
   "display_name": "Python 2",
   "language": "python",
   "name": "python2"
  },
  "language_info": {
   "codemirror_mode": {
    "name": "ipython",
    "version": 2
   },
   "file_extension": ".py",
   "mimetype": "text/x-python",
   "name": "python",
   "nbconvert_exporter": "python",
   "pygments_lexer": "ipython2",
   "version": "2.7.12"
  }
 },
 "nbformat": 4,
 "nbformat_minor": 1
}
