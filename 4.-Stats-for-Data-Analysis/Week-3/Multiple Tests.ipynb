{
 "cells": [
  {
   "cell_type": "markdown",
   "metadata": {},
   "source": [
    "### Multiple Tests"
   ]
  },
  {
   "cell_type": "code",
   "execution_count": 3,
   "metadata": {
    "collapsed": true
   },
   "outputs": [],
   "source": [
    "import pandas as pd\n",
    "data = pd.read_csv('AUCs.txt','\\t')"
   ]
  },
  {
   "cell_type": "code",
   "execution_count": 4,
   "metadata": {
    "collapsed": false
   },
   "outputs": [
    {
     "name": "stdout",
     "output_type": "stream",
     "text": [
      "                 Unnamed: 0   C4.5  C4.5+m  C4.5+cf  C4.5+m+cf\n",
      "0            adult (sample)  0.763   0.768    0.771      0.798\n",
      "1             breast cancer  0.599   0.591    0.590      0.569\n",
      "2   breast cancer wisconsin  0.954   0.971    0.968      0.967\n",
      "3                       cmc  0.628   0.661    0.654      0.657\n",
      "4                ionosphere  0.882   0.888    0.886      0.898\n",
      "5                      iris  0.936   0.931    0.916      0.931\n",
      "6           liver disorders  0.661   0.668    0.609      0.685\n",
      "7               lung cancer  0.583   0.583    0.563      0.625\n",
      "8              lymphography  0.775   0.838    0.866      0.875\n",
      "9                  mushroom  1.000   1.000    1.000      1.000\n",
      "10            primary tumor  0.940   0.962    0.965      0.962\n",
      "11                    rheum  0.619   0.666    0.614      0.669\n",
      "12                   voting  0.972   0.981    0.975      0.975\n",
      "13                     wine  0.957   0.978    0.946      0.970\n"
     ]
    }
   ],
   "source": [
    "print data"
   ]
  },
  {
   "cell_type": "code",
   "execution_count": 11,
   "metadata": {
    "collapsed": false
   },
   "outputs": [
    {
     "name": "stdout",
     "output_type": "stream",
     "text": [
      "Index([u'Unnamed: 0', u'C4.5', u'C4.5+m', u'C4.5+cf', u'C4.5+m+cf'], dtype='object')\n"
     ]
    }
   ],
   "source": [
    "print data.columns"
   ]
  },
  {
   "cell_type": "code",
   "execution_count": null,
   "metadata": {
    "collapsed": true
   },
   "outputs": [],
   "source": []
  },
  {
   "cell_type": "code",
   "execution_count": 41,
   "metadata": {
    "collapsed": false
   },
   "outputs": [
    {
     "name": "stdout",
     "output_type": "stream",
     "text": [
      " C4.5 C4.5+m None\n",
      "C4.5 C4.5+cf None\n",
      "C4.5 C4.5+m+cf None\n",
      "C4.5+m C4.5+cf None\n",
      "C4.5+m C4.5+m+cf None\n",
      "C4.5+cf C4.5+m+cf None\n"
     ]
    }
   ],
   "source": [
    "from itertools import combinations\n",
    "from scipy import stats\n",
    "combin =combinations(data.columns[1:], 2)\n",
    "\n",
    "diff_classificator = []\n",
    "for i, j in combin:\n",
    "    print i, j, diff_classificator.append((stats.wilcoxon(data[i],data[j])[0], stats.wilcoxon(data[i],data[j])[1]))"
   ]
  },
  {
   "cell_type": "markdown",
   "metadata": {},
   "source": [
    "Сравнение алгоритмов и подсчет p-value без учета множественности гипотез"
   ]
  },
  {
   "cell_type": "code",
   "execution_count": 51,
   "metadata": {
    "collapsed": false
   },
   "outputs": [
    {
     "data": {
      "text/html": [
       "<div>\n",
       "<table border=\"1\" class=\"dataframe\">\n",
       "  <thead>\n",
       "    <tr style=\"text-align: right;\">\n",
       "      <th></th>\n",
       "      <th></th>\n",
       "      <th>statistics</th>\n",
       "      <th>pvalue</th>\n",
       "    </tr>\n",
       "  </thead>\n",
       "  <tbody>\n",
       "    <tr>\n",
       "      <th rowspan=\"3\" valign=\"top\">C4.5</th>\n",
       "      <th>C4.5+m</th>\n",
       "      <td>6.5</td>\n",
       "      <td>0.010757</td>\n",
       "    </tr>\n",
       "    <tr>\n",
       "      <th>C4.5+cf</th>\n",
       "      <td>43.0</td>\n",
       "      <td>0.861262</td>\n",
       "    </tr>\n",
       "    <tr>\n",
       "      <th>C4.5+m+cf</th>\n",
       "      <td>11.0</td>\n",
       "      <td>0.015906</td>\n",
       "    </tr>\n",
       "    <tr>\n",
       "      <th rowspan=\"2\" valign=\"top\">C4.5+m</th>\n",
       "      <th>C4.5+cf</th>\n",
       "      <td>17.0</td>\n",
       "      <td>0.046333</td>\n",
       "    </tr>\n",
       "    <tr>\n",
       "      <th>C4.5+m+cf</th>\n",
       "      <td>22.0</td>\n",
       "      <td>0.327826</td>\n",
       "    </tr>\n",
       "    <tr>\n",
       "      <th>C4.5+cf</th>\n",
       "      <th>C4.5+m+cf</th>\n",
       "      <td>10.0</td>\n",
       "      <td>0.022909</td>\n",
       "    </tr>\n",
       "  </tbody>\n",
       "</table>\n",
       "</div>"
      ],
      "text/plain": [
       "                   statistics    pvalue\n",
       "C4.5    C4.5+m            6.5  0.010757\n",
       "        C4.5+cf          43.0  0.861262\n",
       "        C4.5+m+cf        11.0  0.015906\n",
       "C4.5+m  C4.5+cf          17.0  0.046333\n",
       "        C4.5+m+cf        22.0  0.327826\n",
       "C4.5+cf C4.5+m+cf        10.0  0.022909"
      ]
     },
     "execution_count": 51,
     "metadata": {},
     "output_type": "execute_result"
    }
   ],
   "source": [
    "combin =combinations(data.columns[1:], 2)\n",
    "diff_model = pd.DataFrame.from_records(diff_classificator)\n",
    "diff_model.columns = ['statistics', 'pvalue']\n",
    "diff_model.set_index([[i for i in combin]])"
   ]
  },
  {
   "cell_type": "code",
   "execution_count": 52,
   "metadata": {
    "collapsed": false
   },
   "outputs": [
    {
     "data": {
      "text/plain": [
       "True     4\n",
       "False    2\n",
       "Name: pvalue, dtype: int64"
      ]
     },
     "execution_count": 52,
     "metadata": {},
     "output_type": "execute_result"
    }
   ],
   "source": [
    "(diff_model.pvalue<0.05).value_counts()"
   ]
  },
  {
   "cell_type": "markdown",
   "metadata": {},
   "source": [
    "С поправкой на множественность гипотез. Метод Холма\n"
   ]
  },
  {
   "cell_type": "code",
   "execution_count": 61,
   "metadata": {
    "collapsed": false
   },
   "outputs": [
    {
     "name": "stdout",
     "output_type": "stream",
     "text": [
      "[False False False False False False]\n"
     ]
    }
   ],
   "source": [
    "from statsmodels.sandbox.stats.multicomp import multipletests \n",
    "reject, p_corrected, a1, a2 = multipletests(diff_model.pvalue, \n",
    "                                            alpha = 0.05, \n",
    "                                            method = 'holm') \n",
    "print reject"
   ]
  },
  {
   "cell_type": "code",
   "execution_count": 59,
   "metadata": {
    "collapsed": false
   },
   "outputs": [
    {
     "data": {
      "text/html": [
       "<div>\n",
       "<table border=\"1\" class=\"dataframe\">\n",
       "  <thead>\n",
       "    <tr style=\"text-align: right;\">\n",
       "      <th></th>\n",
       "      <th></th>\n",
       "      <th>statistics</th>\n",
       "      <th>pvalue</th>\n",
       "      <th>p_corrected</th>\n",
       "      <th>reject</th>\n",
       "    </tr>\n",
       "  </thead>\n",
       "  <tbody>\n",
       "    <tr>\n",
       "      <th rowspan=\"3\" valign=\"top\">C4.5</th>\n",
       "      <th>C4.5+m</th>\n",
       "      <td>6.5</td>\n",
       "      <td>0.010757</td>\n",
       "      <td>0.064543</td>\n",
       "      <td>False</td>\n",
       "    </tr>\n",
       "    <tr>\n",
       "      <th>C4.5+cf</th>\n",
       "      <td>43.0</td>\n",
       "      <td>0.861262</td>\n",
       "      <td>0.861262</td>\n",
       "      <td>False</td>\n",
       "    </tr>\n",
       "    <tr>\n",
       "      <th>C4.5+m+cf</th>\n",
       "      <td>11.0</td>\n",
       "      <td>0.015906</td>\n",
       "      <td>0.079532</td>\n",
       "      <td>False</td>\n",
       "    </tr>\n",
       "    <tr>\n",
       "      <th rowspan=\"2\" valign=\"top\">C4.5+m</th>\n",
       "      <th>C4.5+cf</th>\n",
       "      <td>17.0</td>\n",
       "      <td>0.046333</td>\n",
       "      <td>0.138998</td>\n",
       "      <td>False</td>\n",
       "    </tr>\n",
       "    <tr>\n",
       "      <th>C4.5+m+cf</th>\n",
       "      <td>22.0</td>\n",
       "      <td>0.327826</td>\n",
       "      <td>0.655651</td>\n",
       "      <td>False</td>\n",
       "    </tr>\n",
       "    <tr>\n",
       "      <th>C4.5+cf</th>\n",
       "      <th>C4.5+m+cf</th>\n",
       "      <td>10.0</td>\n",
       "      <td>0.022909</td>\n",
       "      <td>0.091636</td>\n",
       "      <td>False</td>\n",
       "    </tr>\n",
       "  </tbody>\n",
       "</table>\n",
       "</div>"
      ],
      "text/plain": [
       "                   statistics    pvalue  p_corrected reject\n",
       "C4.5    C4.5+m            6.5  0.010757     0.064543  False\n",
       "        C4.5+cf          43.0  0.861262     0.861262  False\n",
       "        C4.5+m+cf        11.0  0.015906     0.079532  False\n",
       "C4.5+m  C4.5+cf          17.0  0.046333     0.138998  False\n",
       "        C4.5+m+cf        22.0  0.327826     0.655651  False\n",
       "C4.5+cf C4.5+m+cf        10.0  0.022909     0.091636  False"
      ]
     },
     "execution_count": 59,
     "metadata": {},
     "output_type": "execute_result"
    }
   ],
   "source": [
    "diff_model['p_corrected'] = p_corrected\n",
    "diff_model['reject'] = reject\n",
    "combin =combinations(data.columns[1:], 2)\n",
    "diff_model.set_index([[i for i in combin]])"
   ]
  },
  {
   "cell_type": "markdown",
   "metadata": {},
   "source": [
    "С поправкой на множественность гипотез. Метод Бенджамини-Хохберга"
   ]
  },
  {
   "cell_type": "code",
   "execution_count": 63,
   "metadata": {
    "collapsed": false
   },
   "outputs": [
    {
     "data": {
      "text/html": [
       "<div>\n",
       "<table border=\"1\" class=\"dataframe\">\n",
       "  <thead>\n",
       "    <tr style=\"text-align: right;\">\n",
       "      <th></th>\n",
       "      <th></th>\n",
       "      <th>statistics</th>\n",
       "      <th>pvalue</th>\n",
       "      <th>p_corrected</th>\n",
       "      <th>reject</th>\n",
       "    </tr>\n",
       "  </thead>\n",
       "  <tbody>\n",
       "    <tr>\n",
       "      <th rowspan=\"3\" valign=\"top\">C4.5</th>\n",
       "      <th>C4.5+m</th>\n",
       "      <td>6.5</td>\n",
       "      <td>0.010757</td>\n",
       "      <td>0.045818</td>\n",
       "      <td>True</td>\n",
       "    </tr>\n",
       "    <tr>\n",
       "      <th>C4.5+cf</th>\n",
       "      <td>43.0</td>\n",
       "      <td>0.861262</td>\n",
       "      <td>0.861262</td>\n",
       "      <td>False</td>\n",
       "    </tr>\n",
       "    <tr>\n",
       "      <th>C4.5+m+cf</th>\n",
       "      <td>11.0</td>\n",
       "      <td>0.015906</td>\n",
       "      <td>0.045818</td>\n",
       "      <td>True</td>\n",
       "    </tr>\n",
       "    <tr>\n",
       "      <th rowspan=\"2\" valign=\"top\">C4.5+m</th>\n",
       "      <th>C4.5+cf</th>\n",
       "      <td>17.0</td>\n",
       "      <td>0.046333</td>\n",
       "      <td>0.069499</td>\n",
       "      <td>False</td>\n",
       "    </tr>\n",
       "    <tr>\n",
       "      <th>C4.5+m+cf</th>\n",
       "      <td>22.0</td>\n",
       "      <td>0.327826</td>\n",
       "      <td>0.393391</td>\n",
       "      <td>False</td>\n",
       "    </tr>\n",
       "    <tr>\n",
       "      <th>C4.5+cf</th>\n",
       "      <th>C4.5+m+cf</th>\n",
       "      <td>10.0</td>\n",
       "      <td>0.022909</td>\n",
       "      <td>0.045818</td>\n",
       "      <td>True</td>\n",
       "    </tr>\n",
       "  </tbody>\n",
       "</table>\n",
       "</div>"
      ],
      "text/plain": [
       "                   statistics    pvalue  p_corrected reject\n",
       "C4.5    C4.5+m            6.5  0.010757     0.045818   True\n",
       "        C4.5+cf          43.0  0.861262     0.861262  False\n",
       "        C4.5+m+cf        11.0  0.015906     0.045818   True\n",
       "C4.5+m  C4.5+cf          17.0  0.046333     0.069499  False\n",
       "        C4.5+m+cf        22.0  0.327826     0.393391  False\n",
       "C4.5+cf C4.5+m+cf        10.0  0.022909     0.045818   True"
      ]
     },
     "execution_count": 63,
     "metadata": {},
     "output_type": "execute_result"
    }
   ],
   "source": [
    "from statsmodels.sandbox.stats.multicomp import multipletests \n",
    "reject, p_corrected, a1, a2 = multipletests(diff_model.pvalue, \n",
    "                                            alpha = 0.05, \n",
    "                                            method = 'fdr_bh') \n",
    "diff_model['p_corrected'] = p_corrected\n",
    "diff_model['reject'] = reject\n",
    "combin =combinations(data.columns[1:], 2)\n",
    "diff_model.set_index([[i for i in combin]])"
   ]
  },
  {
   "cell_type": "code",
   "execution_count": null,
   "metadata": {
    "collapsed": true
   },
   "outputs": [],
   "source": []
  }
 ],
 "metadata": {
  "kernelspec": {
   "display_name": "Python 2",
   "language": "python",
   "name": "python2"
  },
  "language_info": {
   "codemirror_mode": {
    "name": "ipython",
    "version": 2
   },
   "file_extension": ".py",
   "mimetype": "text/x-python",
   "name": "python",
   "nbconvert_exporter": "python",
   "pygments_lexer": "ipython2",
   "version": "2.7.11"
  }
 },
 "nbformat": 4,
 "nbformat_minor": 0
}
