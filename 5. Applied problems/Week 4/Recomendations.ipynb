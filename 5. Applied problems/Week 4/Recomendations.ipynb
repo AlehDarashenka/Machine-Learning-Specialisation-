{
 "cells": [
  {
   "cell_type": "code",
   "execution_count": 1,
   "metadata": {
    "collapsed": true
   },
   "outputs": [],
   "source": [
    "import  pandas as pd\n",
    "import numpy as np"
   ]
  },
  {
   "cell_type": "code",
   "execution_count": 16,
   "metadata": {
    "collapsed": false
   },
   "outputs": [
    {
     "data": {
      "text/html": [
       "<div>\n",
       "<table border=\"1\" class=\"dataframe\">\n",
       "  <thead>\n",
       "    <tr style=\"text-align: right;\">\n",
       "      <th></th>\n",
       "      <th>0</th>\n",
       "      <th>1</th>\n",
       "    </tr>\n",
       "  </thead>\n",
       "  <tbody>\n",
       "    <tr>\n",
       "      <th>0</th>\n",
       "      <td>0,1,2,3,4,5</td>\n",
       "      <td>NaN</td>\n",
       "    </tr>\n",
       "    <tr>\n",
       "      <th>1</th>\n",
       "      <td>9,10,11,9,11,12,9,11</td>\n",
       "      <td>NaN</td>\n",
       "    </tr>\n",
       "    <tr>\n",
       "      <th>2</th>\n",
       "      <td>16,17,18,19,20,21</td>\n",
       "      <td>NaN</td>\n",
       "    </tr>\n",
       "    <tr>\n",
       "      <th>3</th>\n",
       "      <td>24,25,26,27,24</td>\n",
       "      <td>NaN</td>\n",
       "    </tr>\n",
       "    <tr>\n",
       "      <th>4</th>\n",
       "      <td>34,35,36,34,37,35,36,37,38,39,38,39</td>\n",
       "      <td>NaN</td>\n",
       "    </tr>\n",
       "  </tbody>\n",
       "</table>\n",
       "</div>"
      ],
      "text/plain": [
       "                                     0    1\n",
       "0                          0,1,2,3,4,5  NaN\n",
       "1                 9,10,11,9,11,12,9,11  NaN\n",
       "2                    16,17,18,19,20,21  NaN\n",
       "3                       24,25,26,27,24  NaN\n",
       "4  34,35,36,34,37,35,36,37,38,39,38,39  NaN"
      ]
     },
     "execution_count": 16,
     "metadata": {},
     "output_type": "execute_result"
    }
   ],
   "source": [
    "data  = pd.read_csv('coursera_sessions_train.txt', sep =';', header=None)\n",
    "data.head()"
   ]
  },
  {
   "cell_type": "code",
   "execution_count": 18,
   "metadata": {
    "collapsed": false
   },
   "outputs": [
    {
     "data": {
      "text/html": [
       "<div>\n",
       "<table border=\"1\" class=\"dataframe\">\n",
       "  <thead>\n",
       "    <tr style=\"text-align: right;\">\n",
       "      <th></th>\n",
       "      <th>0</th>\n",
       "      <th>1</th>\n",
       "    </tr>\n",
       "  </thead>\n",
       "  <tbody>\n",
       "    <tr>\n",
       "      <th>7</th>\n",
       "      <td>59,60,61,62,60,63,64,65,66,61,67,68,67</td>\n",
       "      <td>67,60,63</td>\n",
       "    </tr>\n",
       "    <tr>\n",
       "      <th>10</th>\n",
       "      <td>84,85,86,87,88,89,84,90,91,92,93,86</td>\n",
       "      <td>86</td>\n",
       "    </tr>\n",
       "    <tr>\n",
       "      <th>19</th>\n",
       "      <td>138,198,199,127</td>\n",
       "      <td>199</td>\n",
       "    </tr>\n",
       "    <tr>\n",
       "      <th>30</th>\n",
       "      <td>303,304,305,306,307,308,309,310,311,312</td>\n",
       "      <td>303</td>\n",
       "    </tr>\n",
       "    <tr>\n",
       "      <th>33</th>\n",
       "      <td>352,353,352</td>\n",
       "      <td>352</td>\n",
       "    </tr>\n",
       "  </tbody>\n",
       "</table>\n",
       "</div>"
      ],
      "text/plain": [
       "                                          0         1\n",
       "7    59,60,61,62,60,63,64,65,66,61,67,68,67  67,60,63\n",
       "10      84,85,86,87,88,89,84,90,91,92,93,86        86\n",
       "19                          138,198,199,127       199\n",
       "30  303,304,305,306,307,308,309,310,311,312       303\n",
       "33                              352,353,352       352"
      ]
     },
     "execution_count": 18,
     "metadata": {},
     "output_type": "execute_result"
    }
   ],
   "source": [
    "data.dropna(inplace=True)\n",
    "data.head()"
   ]
  },
  {
   "cell_type": "markdown",
   "metadata": {},
   "source": [
    "Отсортируем товары по частоте просматривания"
   ]
  },
  {
   "cell_type": "code",
   "execution_count": 38,
   "metadata": {
    "collapsed": false
   },
   "outputs": [
    {
     "name": "stdout",
     "output_type": "stream",
     "text": [
      "[('158', 50), ('73', 48), ('72586', 45), ('162', 38), ('204', 33), ('3324', 31), ('4476', 31), ('5569', 30), ('78154', 29), ('9135', 27)]\n"
     ]
    }
   ],
   "source": [
    "import re\n",
    "from collections import Counter\n",
    "\n",
    "rank_watched =Counter() \n",
    "for i in data.values:\n",
    "    for j in re.findall('[0-9]+',i[0]):\n",
    "        rank_watched[j]+=1 \n",
    "print rank_watched.most_common(10)    "
   ]
  },
  {
   "cell_type": "markdown",
   "metadata": {},
   "source": [
    "Отсортируем товары по частоте покупки"
   ]
  },
  {
   "cell_type": "code",
   "execution_count": 40,
   "metadata": {
    "collapsed": false
   },
   "outputs": [
    {
     "name": "stdout",
     "output_type": "stream",
     "text": [
      "[('158', 14), ('204', 12), ('3324', 11), ('73', 11), ('977', 10), ('5569', 10), ('3149', 10), ('1181', 9), ('162', 8), ('1852', 7)]\n"
     ]
    }
   ],
   "source": [
    "rank_bought = Counter()\n",
    "for i in data.values:\n",
    "    for j in re.findall('[0-9]+',i[1]):\n",
    "        rank_bought[j]+=1 \n",
    "print rank_bought.most_common(10)   "
   ]
  },
  {
   "cell_type": "code",
   "execution_count": 45,
   "metadata": {
    "collapsed": false
   },
   "outputs": [
    {
     "data": {
      "text/plain": [
       "'158'"
      ]
     },
     "execution_count": 45,
     "metadata": {},
     "output_type": "execute_result"
    }
   ],
   "source": [
    "rank_watched.most_common(10)[0][0]"
   ]
  },
  {
   "cell_type": "code",
   "execution_count": null,
   "metadata": {
    "collapsed": true
   },
   "outputs": [],
   "source": [
    "fst_list = ['158','']"
   ]
  },
  {
   "cell_type": "code",
   "execution_count": 50,
   "metadata": {
    "collapsed": false
   },
   "outputs": [
    {
     "name": "stdout",
     "output_type": "stream",
     "text": [
      "158\n"
     ]
    }
   ],
   "source": [
    "def precision_k(model, data, k):\n",
    "    \n",
    "    for item, cnt in model.most_common(k):\n",
    "        print item\n",
    "precision_k(rank_watched, data, 1)        "
   ]
  },
  {
   "cell_type": "code",
   "execution_count": 61,
   "metadata": {
    "collapsed": false
   },
   "outputs": [
    {
     "name": "stdout",
     "output_type": "stream",
     "text": [
      "0.00388026607539\n",
      "0.0030487804878\n",
      "0.00388026607539\n",
      "0.00249445676275\n"
     ]
    }
   ],
   "source": [
    "def avg_precision_k(model, data, k):\n",
    "    cntr = 0\n",
    "    for i in data.values:\n",
    "        for item, cnt in model.most_common(k):\n",
    "             if item in re.findall('[0-9]+',i[1]):\n",
    "                    cntr+= 1\n",
    "    print float(cntr/k)/len(data)  \n",
    "avg_precision_k(rank_bought, data, 1)\n",
    "avg_precision_k(rank_bought, data, 5)\n",
    "\n",
    "avg_precision_k(rank_watched, data, 1)\n",
    "avg_precision_k(rank_watched, data, 5)\n",
    "        "
   ]
  },
  {
   "cell_type": "code",
   "execution_count": 66,
   "metadata": {
    "collapsed": false
   },
   "outputs": [
    {
     "name": "stdout",
     "output_type": "stream",
     "text": [
      "0.00086244068446\n",
      "0.00297058275366\n",
      "0.00086244068446\n",
      "0.00230593617523\n"
     ]
    }
   ],
   "source": [
    "def avg_recall_k(model, data, k):\n",
    "    cntr = 0\n",
    "    for i in data.values:\n",
    "        for item, cnt in model.most_common(k):\n",
    "             if item in re.findall('[0-9]+',i[1]):\n",
    "                    cntr+= 1./len(i[1])\n",
    "                    \n",
    "    print float(cntr)/len(data) \n",
    "\n",
    "avg_recall_k(rank_bought, data, 1)\n",
    "avg_recall_k(rank_bought, data, 5)\n",
    "\n",
    "avg_recall_k(rank_watched, data, 1)\n",
    "avg_recall_k(rank_watched, data, 5)    \n",
    "    "
   ]
  },
  {
   "cell_type": "code",
   "execution_count": null,
   "metadata": {
    "collapsed": true
   },
   "outputs": [],
   "source": []
  }
 ],
 "metadata": {
  "kernelspec": {
   "display_name": "Python 2",
   "language": "python",
   "name": "python2"
  },
  "language_info": {
   "codemirror_mode": {
    "name": "ipython",
    "version": 2
   },
   "file_extension": ".py",
   "mimetype": "text/x-python",
   "name": "python",
   "nbconvert_exporter": "python",
   "pygments_lexer": "ipython2",
   "version": "2.7.12"
  }
 },
 "nbformat": 4,
 "nbformat_minor": 1
}
