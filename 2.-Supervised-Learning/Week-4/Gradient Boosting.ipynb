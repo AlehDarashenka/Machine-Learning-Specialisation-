{
 "cells": [
  {
   "cell_type": "markdown",
   "metadata": {},
   "source": [
    "# Неделя 4\n",
    "## Градиентный бустинг своими руками"
   ]
  },
  {
   "cell_type": "code",
   "execution_count": 1,
   "metadata": {
    "collapsed": true
   },
   "outputs": [],
   "source": [
    "from sklearn import ensemble\n",
    "import sklearn.datasets as ds\n",
    "import numpy as np\n"
   ]
  },
  {
   "cell_type": "markdown",
   "metadata": {},
   "source": [
    "Загрузка датасета"
   ]
  },
  {
   "cell_type": "code",
   "execution_count": 2,
   "metadata": {
    "collapsed": true
   },
   "outputs": [],
   "source": [
    "data = ds.load_boston()"
   ]
  },
  {
   "cell_type": "markdown",
   "metadata": {},
   "source": [
    "Разделение датасета на целевой признак и оцениваемый. А также разбиение выборки на тренировочную и тестовую."
   ]
  },
  {
   "cell_type": "code",
   "execution_count": 4,
   "metadata": {
    "collapsed": false
   },
   "outputs": [],
   "source": [
    "X = data['data']\n",
    "y = data['target']"
   ]
  },
  {
   "cell_type": "code",
   "execution_count": 8,
   "metadata": {
    "collapsed": false
   },
   "outputs": [],
   "source": [
    "from sklearn.cross_validation import train_test_split\n",
    "\n",
    "(X_train, \n",
    " X_test, \n",
    " y_train, y_test) =(X[:int(len(X)*0.75)],X[int(len(X)*0.75):], y[:int(len(X)*0.75)], y[int(len(X)*0.75):])"
   ]
  },
  {
   "cell_type": "markdown",
   "metadata": {},
   "source": [
    "Производная для функции потерь(Квадратичная)  "
   ]
  },
  {
   "cell_type": "code",
   "execution_count": 59,
   "metadata": {
    "collapsed": false
   },
   "outputs": [],
   "source": [
    "def grad_func_error(y, predict):\n",
    "    return (y - predict)"
   ]
  },
  {
   "cell_type": "code",
   "execution_count": 13,
   "metadata": {
    "collapsed": true
   },
   "outputs": [],
   "source": [
    "import sklearn.tree as tree"
   ]
  },
  {
   "cell_type": "code",
   "execution_count": 39,
   "metadata": {
    "collapsed": true
   },
   "outputs": [],
   "source": [
    "DT_list = [tree.DecisionTreeRegressor(max_depth=5, random_state=42) for _ in range(50)]\n",
    "coef_list = [0.9 for _ in range(50)]\n"
   ]
  },
  {
   "cell_type": "code",
   "execution_count": 41,
   "metadata": {
    "collapsed": false
   },
   "outputs": [],
   "source": [
    "def gbm_predict(X, DT_list, coef_list):\n",
    "    return [sum([coeff * algo.predict([x])[0] for algo, coeff in zip(DT_list, coef_list)]) for x in X]"
   ]
  },
  {
   "cell_type": "code",
   "execution_count": 37,
   "metadata": {
    "collapsed": false
   },
   "outputs": [
    {
     "data": {
      "text/plain": [
       "DecisionTreeRegressor(criterion='mse', max_depth=5, max_features=None,\n",
       "           max_leaf_nodes=None, min_samples_leaf=1, min_samples_split=2,\n",
       "           min_weight_fraction_leaf=0.0, presort=False, random_state=42,\n",
       "           splitter='best')"
      ]
     },
     "execution_count": 37,
     "metadata": {},
     "output_type": "execute_result"
    }
   ],
   "source": [
    "DT_list[0].fit(X_train,y_train)"
   ]
  },
  {
   "cell_type": "code",
   "execution_count": 87,
   "metadata": {
    "collapsed": false
   },
   "outputs": [],
   "source": [
    "from sklearn import metrics\n",
    "base_alg = []\n",
    "coef = []\n",
    "s = y_train\n",
    "for i in range(50):\n",
    "    #learnt algo\n",
    "    DT_list[i].fit(X_train, s)\n",
    "    # add to composition\n",
    "    base_alg.append(DT_list[i])\n",
    "    coef.append(coef_list[i])\n",
    "    s = grad_func_error(y_train,gbm_predict(X_train, base_alg, coef))\n",
    "\n",
    "    \n",
    "    "
   ]
  },
  {
   "cell_type": "code",
   "execution_count": 65,
   "metadata": {
    "collapsed": false
   },
   "outputs": [
    {
     "name": "stdout",
     "output_type": "stream",
     "text": [
      "4.81089328026\n"
     ]
    }
   ],
   "source": [
    "def write_answer_1(score):\n",
    "    with open(\"gradient_boosting_1.txt\", \"w\") as fout:\n",
    "        fout.write(str(score))\n",
    "score = np.sqrt(metrics.mean_squared_error(y_test, gbm_predict(X_test, base_alg, coef)))\n",
    "print score\n",
    "write_answer_1(score)"
   ]
  },
  {
   "cell_type": "markdown",
   "metadata": {},
   "source": [
    "Уменьшение шага вблизи минимума ошибок"
   ]
  },
  {
   "cell_type": "code",
   "execution_count": 84,
   "metadata": {
    "collapsed": true
   },
   "outputs": [],
   "source": [
    "base_alg = []\n",
    "coef = []\n",
    "s = y_train\n",
    "for i in range(50):\n",
    "    #learnt algo\n",
    "    DT_list[i].fit(X_train, s)\n",
    "    # add to composition\n",
    "    base_alg.append(DT_list[i])\n",
    "    coef.append(0.9/(1.0+i))\n",
    "    s = grad_func_error(y_train,gbm_predict(X_train, base_alg, coef))\n"
   ]
  },
  {
   "cell_type": "code",
   "execution_count": 86,
   "metadata": {
    "collapsed": false
   },
   "outputs": [
    {
     "name": "stdout",
     "output_type": "stream",
     "text": [
      "4.81089328026\n"
     ]
    }
   ],
   "source": [
    "def write_answer_2(score):\n",
    "    with open(\"gradient_boosting_2.txt\", \"w\") as fout:\n",
    "        fout.write(str(score))\n",
    "score = np.sqrt(metrics.mean_squared_error(y_test, gbm_predict(X_test, base_alg, coef)))\n",
    "print score\n",
    "write_answer_2(score)"
   ]
  },
  {
   "cell_type": "code",
   "execution_count": 74,
   "metadata": {
    "collapsed": false
   },
   "outputs": [
    {
     "name": "stdout",
     "output_type": "stream",
     "text": [
      "4.95657741296\n"
     ]
    }
   ],
   "source": [
    "from sklearn import ensemble\n",
    "def grad_boost_param(n_trees, depth):\n",
    "    grad_boost = ensemble.GradientBoostingRegressor(n_estimators=n_trees, max_depth=depth)\n",
    "    grad_boost.fit(X_train, y_train)\n",
    "    return np.sqrt(metrics.mean_squared_error(y_test, grad_boost.predict(X_test)))\n",
    "print grad_boost_param(50, 5)                   "
   ]
  },
  {
   "cell_type": "code",
   "execution_count": 75,
   "metadata": {
    "collapsed": true
   },
   "outputs": [],
   "source": [
    "%matplotlib inline"
   ]
  },
  {
   "cell_type": "code",
   "execution_count": 79,
   "metadata": {
    "collapsed": false
   },
   "outputs": [
    {
     "data": {
      "text/plain": [
       "<matplotlib.text.Text at 0x6d66a10>"
      ]
     },
     "execution_count": 79,
     "metadata": {},
     "output_type": "execute_result"
    },
    {
     "data": {
      "image/png": "[encoded data removed]",
      "text/plain": [
       "<matplotlib.figure.Figure at 0x6b84d50>"
      ]
     },
     "metadata": {},
     "output_type": "display_data"
    }
   ],
   "source": [
    "from matplotlib import pyplot as plt\n",
    "score = [grad_boost_param(_, 5) for _ in range(1,201)]\n",
    "plt.plot(range(1,201),score)\n",
    "plt.title('cnt trees/error  dependence')"
   ]
  },
  {
   "cell_type": "code",
   "execution_count": 81,
   "metadata": {
    "collapsed": false
   },
   "outputs": [
    {
     "data": {
      "text/plain": [
       "<matplotlib.text.Text at 0x81bf2b0>"
      ]
     },
     "execution_count": 81,
     "metadata": {},
     "output_type": "execute_result"
    },
    {
     "data": {
      "image/png": "[encoded data removed]",
      "text/plain": [
       "<matplotlib.figure.Figure at 0x6d52c70>"
      ]
     },
     "metadata": {},
     "output_type": "display_data"
    }
   ],
   "source": [
    "score = [grad_boost_param(50, _) for _ in range(1,16)]\n",
    "plt.plot(range(1,16),score)\n",
    "plt.title('depth/error dependence')"
   ]
  },
  {
   "cell_type": "markdown",
   "metadata": {},
   "source": [
    "Сравнение ошибки после обучения данных с помощью линейной регрессии"
   ]
  },
  {
   "cell_type": "code",
   "execution_count": 80,
   "metadata": {
    "collapsed": false
   },
   "outputs": [
    {
     "name": "stdout",
     "output_type": "stream",
     "text": [
      "8.27046803494\n"
     ]
    }
   ],
   "source": [
    "from sklearn.linear_model import LinearRegression\n",
    "model = LinearRegression()\n",
    "model.fit(X_train, y_train)\n",
    "\n"
   ]
  },
  {
   "cell_type": "code",
   "execution_count": 82,
   "metadata": {
    "collapsed": true
   },
   "outputs": [],
   "source": [
    "def write_answer_4(score):\n",
    "    with open(\"gradient_boosting_4.txt\", \"w\") as fout:\n",
    "        fout.write(str(score))\n",
    "score = np.sqrt(metrics.mean_squared_error(y_test, model.predict(X_test)))\n",
    "write_answer_4(score)"
   ]
  },
  {
   "cell_type": "code",
   "execution_count": null,
   "metadata": {
    "collapsed": true
   },
   "outputs": [],
   "source": []
  }
 ],
 "metadata": {
  "kernelspec": {
   "display_name": "Python 2",
   "language": "python",
   "name": "python2"
  },
  "language_info": {
   "codemirror_mode": {
    "name": "ipython",
    "version": 2
   },
   "file_extension": ".py",
   "mimetype": "text/x-python",
   "name": "python",
   "nbconvert_exporter": "python",
   "pygments_lexer": "ipython2",
   "version": "2.7.11"
  }
 },
 "nbformat": 4,
 "nbformat_minor": 0
}
