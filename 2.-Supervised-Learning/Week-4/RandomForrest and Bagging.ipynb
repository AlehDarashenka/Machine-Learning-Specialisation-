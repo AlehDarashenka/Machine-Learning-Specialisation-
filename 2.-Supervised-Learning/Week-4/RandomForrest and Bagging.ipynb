{
 "cells": [
  {
   "cell_type": "markdown",
   "metadata": {},
   "source": [
    "# Неделя 4\n",
    "## Задание 1\n",
    "### Бэггинг и случайный лес\n"
   ]
  },
  {
   "cell_type": "markdown",
   "metadata": {},
   "source": [
    "Загрузка массива цифр"
   ]
  },
  {
   "cell_type": "code",
   "execution_count": 59,
   "metadata": {
    "collapsed": true
   },
   "outputs": [],
   "source": [
    "from sklearn import ensemble, cross_validation, learning_curve, metrics \n",
    "from sklearn.tree import DecisionTreeClassifier\n",
    "\n",
    "import numpy as np\n",
    "import pandas as pd"
   ]
  },
  {
   "cell_type": "code",
   "execution_count": 3,
   "metadata": {
    "collapsed": true
   },
   "outputs": [],
   "source": [
    "import sklearn.datasets as ds\n",
    "data = ds.load_digits()"
   ]
  },
  {
   "cell_type": "code",
   "execution_count": 16,
   "metadata": {
    "collapsed": false
   },
   "outputs": [
    {
     "data": {
      "text/plain": [
       "['images', 'data', 'target_names', 'DESCR', 'target']"
      ]
     },
     "execution_count": 16,
     "metadata": {},
     "output_type": "execute_result"
    }
   ],
   "source": [
    "data.keys()"
   ]
  },
  {
   "cell_type": "markdown",
   "metadata": {},
   "source": [
    "Создание массива параметров и вектора отчетов."
   ]
  },
  {
   "cell_type": "code",
   "execution_count": 26,
   "metadata": {
    "collapsed": false
   },
   "outputs": [
    {
     "name": "stdout",
     "output_type": "stream",
     "text": [
      "(1797L, 64L)\n",
      "(1797L,)\n"
     ]
    }
   ],
   "source": [
    "X = data.values()[1]\n",
    "y = data.values()[4]\n",
    "print X.shape\n",
    "print y.shape"
   ]
  },
  {
   "cell_type": "markdown",
   "metadata": {},
   "source": [
    "    1. обучение Decision Tree"
   ]
  },
  {
   "cell_type": "code",
   "execution_count": 67,
   "metadata": {
    "collapsed": false
   },
   "outputs": [
    {
     "name": "stdout",
     "output_type": "stream",
     "text": [
      "0.831441399535\n"
     ]
    }
   ],
   "source": [
    "DT = DecisionTreeClassifier()\n",
    "score = cross_validation.cross_val_score(DT,X, y=y, cv=10)\n",
    "print score.mean()"
   ]
  },
  {
   "cell_type": "code",
   "execution_count": 63,
   "metadata": {
    "collapsed": false
   },
   "outputs": [],
   "source": [
    "def write_answer_1(score):\n",
    "    with open(\"random_forest_1.txt\", \"w\") as fout:\n",
    "        fout.write(str(score))\n",
    "write_answer_1(score.mean())        \n",
    "    "
   ]
  },
  {
   "cell_type": "markdown",
   "metadata": {},
   "source": [
    "    2. Сравнение с лесом\n",
    "    "
   ]
  },
  {
   "cell_type": "code",
   "execution_count": 76,
   "metadata": {
    "collapsed": false
   },
   "outputs": [
    {
     "name": "stdout",
     "output_type": "stream",
     "text": [
      "0.927714305715\n"
     ]
    }
   ],
   "source": [
    "DT = DecisionTreeClassifier()\n",
    "Bag = ensemble.BaggingClassifier(base_estimator=DT, n_estimators=100) #100 trees\n",
    "score = cross_validation.cross_val_score(Bag,X, y=y, cv=10)\n",
    "print score.mean()"
   ]
  },
  {
   "cell_type": "code",
   "execution_count": 77,
   "metadata": {
    "collapsed": true
   },
   "outputs": [],
   "source": [
    "def write_answer_2(score):\n",
    "    with open(\"random_forest_2.txt\", \"w\") as fout:\n",
    "        fout.write(str(score))\n",
    "write_answer_2(score.mean())     "
   ]
  },
  {
   "cell_type": "markdown",
   "metadata": {},
   "source": [
    "    3. Обучение на случайном подпространстве "
   ]
  },
  {
   "cell_type": "code",
   "execution_count": 83,
   "metadata": {
    "collapsed": false
   },
   "outputs": [
    {
     "name": "stdout",
     "output_type": "stream",
     "text": [
      "0.936119303953\n"
     ]
    }
   ],
   "source": [
    "DT = DecisionTreeClassifier()\n",
    "Bag = ensemble.BaggingClassifier(base_estimator=DT,max_features=np.sqrt(X.shape[1])/X.shape[1],n_estimators=100) #100 trees\n",
    "score = cross_validation.cross_val_score(Bag,X, y=y, cv=10)\n",
    "print score.mean()\n",
    "\n",
    "\n"
   ]
  },
  {
   "cell_type": "code",
   "execution_count": 81,
   "metadata": {
    "collapsed": true
   },
   "outputs": [],
   "source": [
    "def write_answer_3(score):\n",
    "    with open(\"random_forest_3.txt\", \"w\") as fout:\n",
    "        fout.write(str(score))\n",
    "write_answer_3(score.mean())    "
   ]
  },
  {
   "cell_type": "markdown",
   "metadata": {},
   "source": [
    "    4. Выбор случайного подпространства на каждой вершине дерева "
   ]
  },
  {
   "cell_type": "code",
   "execution_count": 84,
   "metadata": {
    "collapsed": false
   },
   "outputs": [
    {
     "name": "stdout",
     "output_type": "stream",
     "text": [
      "0.949436258025\n"
     ]
    }
   ],
   "source": [
    "DT = DecisionTreeClassifier(max_features=np.sqrt(X.shape[1])/X.shape[1])\n",
    "Bag = ensemble.BaggingClassifier(base_estimator=DT,n_estimators=100) #100 trees\n",
    "score = cross_validation.cross_val_score(Bag,X, y=y, cv=10)\n",
    "print score.mean()"
   ]
  },
  {
   "cell_type": "code",
   "execution_count": 85,
   "metadata": {
    "collapsed": true
   },
   "outputs": [],
   "source": [
    "def write_answer_4(score):\n",
    "    with open(\"random_forest_4.txt\", \"w\") as fout:\n",
    "        fout.write(str(score))\n",
    "write_answer_4(score.mean())    "
   ]
  },
  {
   "cell_type": "markdown",
   "metadata": {},
   "source": [
    "    5. Обучение леса с разными параметрами "
   ]
  },
  {
   "cell_type": "code",
   "execution_count": 90,
   "metadata": {
    "collapsed": false
   },
   "outputs": [],
   "source": [
    "score = []\n",
    "for i in range(100):\n",
    "    rf_classifier = ensemble.RandomForestClassifier(n_estimators = i+1, max_depth = 10, random_state = 1)\n",
    "    score_ar = cross_validation.cross_val_score(rf_classifier,X, y=y, cv=10)\n",
    "    score.append((score_ar.mean(),i))"
   ]
  },
  {
   "cell_type": "code",
   "execution_count": 88,
   "metadata": {
    "collapsed": true
   },
   "outputs": [],
   "source": [
    "from matplotlib import pyplot\n",
    "%matplotlib inline"
   ]
  },
  {
   "cell_type": "code",
   "execution_count": 96,
   "metadata": {
    "collapsed": false
   },
   "outputs": [
    {
     "data": {
      "text/plain": [
       "<matplotlib.text.Text at 0xb678470>"
      ]
     },
     "execution_count": 96,
     "metadata": {},
     "output_type": "execute_result"
    },
    {
     "data": {
      "image/png": "[encoded data removed]",
      "text/plain": [
       "<matplotlib.figure.Figure at 0xb9847f0>"
      ]
     },
     "metadata": {},
     "output_type": "display_data"
    }
   ],
   "source": [
    "pyplot.plot(map(lambda x: x[1], score), map(lambda x: x[0], score))\n",
    "pyplot.title('cnt trees dependence')\n",
    "pyplot.xlabel('cnt trees')\n",
    "pyplot.ylabel('accuracy')"
   ]
  },
  {
   "cell_type": "code",
   "execution_count": 100,
   "metadata": {
    "collapsed": false
   },
   "outputs": [],
   "source": [
    "score = []\n",
    "for i in range(20):\n",
    "    rf_classifier = ensemble.RandomForestClassifier(n_estimators = 84, max_depth = i+1, random_state = 1)\n",
    "    score_ar = cross_validation.cross_val_score(rf_classifier,X, y=y, cv=10)\n",
    "    score.append((score_ar.mean(),i))"
   ]
  },
  {
   "cell_type": "code",
   "execution_count": 101,
   "metadata": {
    "collapsed": false
   },
   "outputs": [
    {
     "data": {
      "text/plain": [
       "<matplotlib.text.Text at 0xc570eb8>"
      ]
     },
     "execution_count": 101,
     "metadata": {},
     "output_type": "execute_result"
    },
    {
     "data": {
      "image/png": "[encoded data removed]",
      "text/plain": [
       "<matplotlib.figure.Figure at 0xb339b00>"
      ]
     },
     "metadata": {},
     "output_type": "display_data"
    }
   ],
   "source": [
    "pyplot.plot(map(lambda x: x[1], score), map(lambda x: x[0], score))\n",
    "pyplot.title('depth tree dependence')\n",
    "pyplot.xlabel('depth tree')\n",
    "pyplot.ylabel('accuracy')"
   ]
  },
  {
   "cell_type": "code",
   "execution_count": 105,
   "metadata": {
    "collapsed": false
   },
   "outputs": [],
   "source": [
    "score = []\n",
    "for i in range(64):\n",
    "    rf_classifier = ensemble.RandomForestClassifier(n_estimators = 84, max_features= i+1 ,max_depth = i+1, random_state = 1)\n",
    "    score_ar = cross_validation.cross_val_score(rf_classifier,X, y=y, cv=10)\n",
    "    score.append((score_ar.mean(),i))"
   ]
  },
  {
   "cell_type": "code",
   "execution_count": 106,
   "metadata": {
    "collapsed": false
   },
   "outputs": [
    {
     "data": {
      "text/plain": [
       "<matplotlib.text.Text at 0xc8795c0>"
      ]
     },
     "execution_count": 106,
     "metadata": {},
     "output_type": "execute_result"
    },
    {
     "data": {
      "image/png": "[encoded data removed]",
      "text/plain": [
       "<matplotlib.figure.Figure at 0xb8058d0>"
      ]
     },
     "metadata": {},
     "output_type": "display_data"
    }
   ],
   "source": [
    "pyplot.plot(map(lambda x: x[1], score), map(lambda x: x[0], score))\n",
    "pyplot.title('max cnt features for node dependence')\n",
    "pyplot.xlabel('max cnt features')\n",
    "pyplot.ylabel('accuracy')"
   ]
  },
  {
   "cell_type": "code",
   "execution_count": null,
   "metadata": {
    "collapsed": true
   },
   "outputs": [],
   "source": []
  }
 ],
 "metadata": {
  "kernelspec": {
   "display_name": "Python 2",
   "language": "python",
   "name": "python2"
  },
  "language_info": {
   "codemirror_mode": {
    "name": "ipython",
    "version": 2
   },
   "file_extension": ".py",
   "mimetype": "text/x-python",
   "name": "python",
   "nbconvert_exporter": "python",
   "pygments_lexer": "ipython2",
   "version": "2.7.11"
  }
 },
 "nbformat": 4,
 "nbformat_minor": 0
}
