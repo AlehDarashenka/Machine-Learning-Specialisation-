{
 "cells": [
  {
   "cell_type": "markdown",
   "metadata": {},
   "source": [
    "# Week 2. Linear Algebra\n",
    "## Task 1. Sentences comparison "
   ]
  },
  {
   "cell_type": "code",
   "execution_count": 37,
   "metadata": {
    "collapsed": false
   },
   "outputs": [
    {
     "name": "stdout",
     "output_type": "stream",
     "text": [
      "['in', 'comparison', 'to', 'dogs', 'cats', 'have', 'not', 'undergone', 'major', 'changes', 'during', 'the', 'domestication', 'process']\n"
     ]
    }
   ],
   "source": [
    "import re\n",
    "text_file  = open (r'd:\\проектик\\Coursera\\Coursera--Specialisation-\\Math and Python\\Week2\\sentences.txt'.decode('utf-8'),'r' )\n",
    "words = []\n",
    "for row in text_file:\n",
    "    words.append(re.findall('([a-z]+)', row.lower()))\n",
    "print words[0]    "
   ]
  },
  {
   "cell_type": "code",
   "execution_count": 83,
   "metadata": {
    "collapsed": false
   },
   "outputs": [
    {
     "name": "stdout",
     "output_type": "stream",
     "text": [
      "1\n"
     ]
    }
   ],
   "source": [
    "import collections as cl\n",
    "cnt = cl.Counter()\n",
    "cnt_by_sentence = []\n",
    "for sentence in words:\n",
    "    for word in sentence:\n",
    "        cnt[word] += 1\n",
    "    cnt_by_sentence.append(cnt)\n",
    "    cnt = cl.Counter()\n",
    "print cnt_by_sentence[0]['the']        "
   ]
  },
  {
   "cell_type": "code",
   "execution_count": 86,
   "metadata": {
    "collapsed": false
   },
   "outputs": [
    {
     "name": "stdout",
     "output_type": "stream",
     "text": [
      "{0: 'displays', 1: 'osx', 2: 'selection', 3: 'safari', 4: 'just', 5: 'developed', 6: 'over', 7: 'vermin', 8: 'domestic', 9: 'named', 10: 'installed', 11: 'symbols', 12: 'through', 13: 'human', 14: 'world', 15: 'disk', 16: 'its', 17: 'fifth', 18: 'features', 19: 'tamed', 20: 'upgrade', 21: 'lb', 22: 'drive', 23: 'to', 24: 'won', 25: 'deliberately', 26: 'marks', 27: 'has', 28: 'predecessor', 29: 'non', 30: 'which', 31: 'read', 32: 'october', 33: 'every', 34: 'os', 35: 'they', 36: 'not', 37: 'during', 38: 'now', 39: 'possess', 40: 'intel', 41: 'keyboards', 42: 'bytes', 43: 'unnecessary', 44: 'patch', 45: 'predators', 46: 'small', 47: 'output', 48: 'entirely', 49: 'where', 50: 'ears', 51: 'available', 52: 'on', 53: 'often', 54: 'sequence', 55: 'some', 56: 'lion', 57: 'frequency', 58: 'are', 59: 'year', 60: 'download', 61: 'terms', 62: 'concern', 63: 'error', 64: 'for', 65: 'pipes', 66: 'since', 67: 'factory', 68: 'artificial', 69: 'content', 70: 'version', 71: 'run', 72: 'between', 73: 'new', 74: 'learned', 75: 'three', 76: 'piped', 77: 'common', 78: 'concatenate', 79: 'be', 80: 'weighing', 81: 'genes', 82: 'use', 83: 'standard', 84: 'release', 85: 'diploid', 86: 'members', 87: 'x', 88: 'based', 89: 'safer', 90: 'by', 91: 'both', 92: 'commands', 93: 'installation', 94: 'installs', 95: 'of', 96: 'needing', 97: 'allows', 98: 'according', 99: 'july', 100: 'later', 101: 'mac', 102: 's', 103: 'streams', 104: 'receives', 105: 'successor', 106: 'catenates', 107: 'changes', 108: 'or', 109: 'felis', 110: 'major', 111: 'faint', 112: 'useful', 113: 'apple', 114: 'app', 115: 'community', 116: 'one', 117: 'running', 118: 'unix', 119: 'right', 120: 'simply', 121: 'linux', 122: 'sounds', 123: 'size', 124: 'undergone', 125: 'delete', 126: 'from', 127: 'enhancements', 128: 'second', 129: 'their', 130: 'create', 131: 'people', 132: 'two', 133: 't', 134: 'redirection', 135: 'however', 136: 'cats', 137: 'too', 138: 'basic', 139: 'permanently', 140: 'type', 141: 'dogs', 142: 'store', 143: 'more', 144: 'files', 145: 'releases', 146: 'that', 147: 'started', 148: 'contains', 149: 'releasing', 150: 'tiger', 151: 'released', 152: 'part', 153: 'hear', 154: 'external', 155: 'editions', 156: 'off', 157: 'mice', 158: 'with', 159: 'than', 160: 'those', 161: 'longer', 162: 'count', 163: 'made', 164: 'animals', 165: 'mavericks', 166: 'versions', 167: 'default', 168: 'was', 169: 'single', 170: 'cat', 171: 'will', 172: 'can', 173: 'were', 174: 'wild', 175: 'similar', 176: 'interactive', 177: 'and', 178: 'mountain', 179: 'computers', 180: 'have', 181: 'stdout', 182: 'process', 183: 'lines', 184: 'is', 185: 'received', 186: 'moved', 187: 'it', 188: 'an', 189: 'high', 190: 'as', 191: 'incremental', 192: 'file', 193: 'in', 194: 'need', 195: 'domesticated', 196: 'any', 197: 'domestication', 198: 'if', 199: 'binary', 200: 'processors', 201: 'no', 202: 'rather', 203: 'legibility', 204: 'separate', 205: 'firmware', 206: 'when', 207: 'mid', 208: 'also', 209: 'other', 210: 'arguments', 211: 'adjacent', 212: 'online', 213: 'instead', 214: 'you', 215: 'ancestor', 216: 'offered', 217: 'used', 218: 'chromosomes', 219: 'closest', 220: 'information', 221: 'may', 222: 'symbol', 223: 'leopard', 224: 'update', 225: 'most', 226: 'wrong', 227: 'connected', 228: 'yosemite', 229: 'such', 230: 'comparison', 231: 'recent', 232: 'a', 233: 'purchase', 234: 'genus', 235: 'kg', 236: 'organisms', 237: 'using', 238: 'starting', 239: 'clear', 240: 'stdin', 241: 'flow', 242: 'roughly', 243: 'so', 244: 'switch', 245: 'without', 246: 'command', 247: 'place', 248: 'allow', 249: 'time', 250: 'redirected', 251: 'the', 252: 'typically', 253: 'left'}\n"
     ]
    }
   ],
   "source": [
    "heap = set()\n",
    "for sentence in words:\n",
    "    for word in sentence:\n",
    "        heap.add(word)\n",
    "dict_word = {} \n",
    "number = 0\n",
    "\n",
    "for word in list(heap):\n",
    "    dict_word[number] = word\n",
    "    number += 1\n",
    "print dict_word"
   ]
  },
  {
   "cell_type": "code",
   "execution_count": 89,
   "metadata": {
    "collapsed": false
   },
   "outputs": [
    {
     "name": "stdout",
     "output_type": "stream",
     "text": [
      "[[ 0.  0.  0. ...,  1.  0.  0.]\n",
      " [ 0.  0.  0. ...,  0.  0.  0.]\n",
      " [ 0.  0.  0. ...,  1.  0.  0.]\n",
      " ..., \n",
      " [ 0.  0.  0. ...,  2.  0.  0.]\n",
      " [ 0.  0.  0. ...,  1.  0.  0.]\n",
      " [ 0.  0.  0. ...,  1.  0.  0.]]\n"
     ]
    }
   ],
   "source": [
    "import numpy as np\n",
    "freq_words  = np.ones((len(words),len(dict_word)))\n",
    "\n",
    "for row in range(len(words)):\n",
    "    for column in range(len(dict_word)):\n",
    "        if dict_word[column] in words[row]:\n",
    "            freq_words[row, column] = cnt_by_sentence[row][dict_word[column]]\n",
    "        else:\n",
    "            freq_words[row, column] = 0\n",
    "print freq_words"
   ]
  },
  {
   "cell_type": "code",
   "execution_count": 99,
   "metadata": {
    "collapsed": false
   },
   "outputs": [
    {
     "name": "stdout",
     "output_type": "stream",
     "text": [
      "[0.0, 0.95275444087384664, 0.86447381456421235, 0.89517151632780823, 0.77708871496985887, 0.94023856953328033, 0.7327387580875756, 0.92587506833388988, 0.88427248752843102, 0.90550888174769317, 0.83281653622739416, 0.88047713906656067, 0.83964325485254543, 0.87035925528956715, 0.87401184233025764, 0.94427217874246472, 0.84063618542208085, 0.95664450152379399, 0.94427217874246472, 0.88854435748492944, 0.84275727449171223, 0.82503644694405864]\n"
     ]
    }
   ],
   "source": [
    "import scipy as sp\n",
    "dist = []\n",
    "for row in freq_words:\n",
    "    dist.append(sp.spatial.distance.cosine(freq_words[0], row))\n",
    "print dist    \n",
    "\n"
   ]
  },
  {
   "cell_type": "markdown",
   "metadata": {},
   "source": [
    "## Task2. Function approximation\n"
   ]
  },
  {
   "cell_type": "code",
   "execution_count": 108,
   "metadata": {
    "collapsed": false
   },
   "outputs": [],
   "source": [
    "%matplotlib inline\n",
    "import matplotlib as mp"
   ]
  },
  {
   "cell_type": "code",
   "execution_count": 131,
   "metadata": {
    "collapsed": false
   },
   "outputs": [
    {
     "data": {
      "text/plain": [
       "[<matplotlib.lines.Line2D at 0x8be0a90>]"
      ]
     },
     "execution_count": 131,
     "metadata": {},
     "output_type": "execute_result"
    },
    {
     "data": {
      "image/png": "[encoded data removed]",
      "text/plain": [
       "<matplotlib.figure.Figure at 0x860f610>"
      ]
     },
     "metadata": {},
     "output_type": "display_data"
    }
   ],
   "source": [
    "x = np.arange(1, 15, 0.1)\n",
    "def func(x):\n",
    "    return np.sin(x/5) * np.exp(x / 10) + 5 * np.exp(-x / 2)\n",
    "    \n",
    "y = func(x)\n",
    "mp.pyplot.plot(x, y)"
   ]
  },
  {
   "cell_type": "markdown",
   "metadata": {},
   "source": [
    "1st level polynom\n"
   ]
  },
  {
   "cell_type": "code",
   "execution_count": 132,
   "metadata": {
    "collapsed": false
   },
   "outputs": [
    {
     "data": {
      "text/plain": [
       "[<matplotlib.lines.Line2D at 0x8b904b0>]"
      ]
     },
     "execution_count": 132,
     "metadata": {},
     "output_type": "execute_result"
    },
    {
     "data": {
      "image/png": "[encoded data removed]",
      "text/plain": [
       "<matplotlib.figure.Figure at 0x8cfbff0>"
      ]
     },
     "metadata": {},
     "output_type": "display_data"
    }
   ],
   "source": [
    "A = np.array([[1, 1],[1, 15]])\n",
    "b = np.array([func(1.),func(15.)])\n",
    "w0,w1 =  scipy.linalg.solve(A,b)\n",
    "y = w0 +w1*x\n",
    "mp.pyplot.plot(x, y)"
   ]
  },
  {
   "cell_type": "markdown",
   "metadata": {},
   "source": [
    "2nd level polynom"
   ]
  },
  {
   "cell_type": "code",
   "execution_count": 133,
   "metadata": {
    "collapsed": false
   },
   "outputs": [
    {
     "data": {
      "text/plain": [
       "[<matplotlib.lines.Line2D at 0x8eb2af0>]"
      ]
     },
     "execution_count": 133,
     "metadata": {},
     "output_type": "execute_result"
    },
    {
     "data": {
      "image/png": "[encoded data removed]",
      "text/plain": [
       "<matplotlib.figure.Figure at 0x8dfb890>"
      ]
     },
     "metadata": {},
     "output_type": "display_data"
    }
   ],
   "source": [
    "A = np.array([[1, 1,1],[1, 8, 64],[1, 15, 225]])\n",
    "b = np.array([func(1.),func(8.),func(15.)])\n",
    "w0,w1,w2 =  scipy.linalg.solve(A,b)\n",
    "y = w0 +w1*x+ w2*x**2\n",
    "mp.pyplot.plot(x, y)"
   ]
  },
  {
   "cell_type": "markdown",
   "metadata": {},
   "source": [
    "3rd level polynom"
   ]
  },
  {
   "cell_type": "code",
   "execution_count": 130,
   "metadata": {
    "collapsed": false
   },
   "outputs": [
    {
     "name": "stdout",
     "output_type": "stream",
     "text": [
      "4.36264153512 -1.29552586569 0.193336847022 -0.00823565117332\n"
     ]
    },
    {
     "data": {
      "image/png": "[encoded data removed]",
      "text/plain": [
       "<matplotlib.figure.Figure at 0x8ba6470>"
      ]
     },
     "metadata": {},
     "output_type": "display_data"
    }
   ],
   "source": [
    "A = np.array([[1, 1,1,1],[1, 4, 16, 64],[1, 10, 100, 1000], [1, 15, 225, 3375]])\n",
    "b = np.array([np.sin(1./5)*np.exp(1./10)+5*np.exp(-1./2),np.sin(4./5)*np.exp(4./10)+5*np.exp(-4./2),np.sin(10./5)*np.exp(10./10)+5*np.exp(-10./2),\n",
    "            np.sin(15./5)*np.exp(15./10)+5*np.exp(-15./2)])\n",
    "w0,w1,w2, w3 =  scipy.linalg.solve(A,b)\n",
    "y = w0 +w1*x+ w2*x**2 +w3*x**3\n",
    "mp.pyplot.plot(x, y)\n",
    "print w0, w1, w2, w3"
   ]
  },
  {
   "cell_type": "code",
   "execution_count": 129,
   "metadata": {
    "collapsed": false
   },
   "outputs": [
    {
     "data": {
      "text/plain": [
       "64"
      ]
     },
     "execution_count": 129,
     "metadata": {},
     "output_type": "execute_result"
    }
   ],
   "source": [
    "225*15\n",
    "4**3\n"
   ]
  },
  {
   "cell_type": "code",
   "execution_count": null,
   "metadata": {
    "collapsed": true
   },
   "outputs": [],
   "source": []
  }
 ],
 "metadata": {
  "kernelspec": {
   "display_name": "Python 2",
   "language": "python",
   "name": "python2"
  },
  "language_info": {
   "codemirror_mode": {
    "name": "ipython",
    "version": 2
   },
   "file_extension": ".py",
   "mimetype": "text/x-python",
   "name": "python",
   "nbconvert_exporter": "python",
   "pygments_lexer": "ipython2",
   "version": "2.7.11"
  }
 },
 "nbformat": 4,
 "nbformat_minor": 0
}
